{
 "cells": [
  {
   "cell_type": "code",
   "execution_count": 65,
   "metadata": {
    "ExecuteTime": {
     "end_time": "2018-11-15T04:30:17.380639Z",
     "start_time": "2018-11-15T04:30:17.371626Z"
    }
   },
   "outputs": [],
   "source": [
    "import pandas as pd\n",
    "import numpy as np"
   ]
  },
  {
   "cell_type": "code",
   "execution_count": 66,
   "metadata": {
    "ExecuteTime": {
     "end_time": "2018-11-15T04:30:18.669148Z",
     "start_time": "2018-11-15T04:30:18.639132Z"
    }
   },
   "outputs": [],
   "source": [
    "path = 'C:\\\\Users\\\\Pete Russell\\\\Desktop\\\\I526_AML_FA18\\\\Final Project'\n",
    "\n",
    "#nfl_teams=pd.read_csv(\"./nfl-scores-and-betting-data/nfl_teams.csv\",encoding = \"utf-8\")\n",
    "\n",
    "nfl_teams = pd.read_csv(path + '\\\\nfl_teams.csv')"
   ]
  },
  {
   "cell_type": "code",
   "execution_count": 5,
   "metadata": {
    "ExecuteTime": {
     "end_time": "2018-11-15T04:05:06.891954Z",
     "start_time": "2018-11-15T04:05:06.778449Z"
    }
   },
   "outputs": [
    {
     "data": {
      "text/html": [
       "<div>\n",
       "<style scoped>\n",
       "    .dataframe tbody tr th:only-of-type {\n",
       "        vertical-align: middle;\n",
       "    }\n",
       "\n",
       "    .dataframe tbody tr th {\n",
       "        vertical-align: top;\n",
       "    }\n",
       "\n",
       "    .dataframe thead th {\n",
       "        text-align: right;\n",
       "    }\n",
       "</style>\n",
       "<table border=\"1\" class=\"dataframe\">\n",
       "  <thead>\n",
       "    <tr style=\"text-align: right;\">\n",
       "      <th></th>\n",
       "      <th>team_name</th>\n",
       "      <th>team_name_short</th>\n",
       "      <th>team_id</th>\n",
       "      <th>team_id_pfr</th>\n",
       "      <th>team_conference</th>\n",
       "      <th>team_division</th>\n",
       "      <th>team_conference_pre2002</th>\n",
       "      <th>team_division_pre2002</th>\n",
       "    </tr>\n",
       "  </thead>\n",
       "  <tbody>\n",
       "    <tr>\n",
       "      <th>0</th>\n",
       "      <td>Arizona Cardinals</td>\n",
       "      <td>Cardinals</td>\n",
       "      <td>ARI</td>\n",
       "      <td>CRD</td>\n",
       "      <td>NFC</td>\n",
       "      <td>NFC West</td>\n",
       "      <td>NFC</td>\n",
       "      <td>NFC West</td>\n",
       "    </tr>\n",
       "    <tr>\n",
       "      <th>1</th>\n",
       "      <td>Phoenix Cardinals</td>\n",
       "      <td>Cardinals</td>\n",
       "      <td>ARI</td>\n",
       "      <td>CRD</td>\n",
       "      <td>NFC</td>\n",
       "      <td>NaN</td>\n",
       "      <td>NFC</td>\n",
       "      <td>NFC East</td>\n",
       "    </tr>\n",
       "    <tr>\n",
       "      <th>2</th>\n",
       "      <td>St. Louis Cardinals</td>\n",
       "      <td>Cardinals</td>\n",
       "      <td>ARI</td>\n",
       "      <td>ARI</td>\n",
       "      <td>NFC</td>\n",
       "      <td>NaN</td>\n",
       "      <td>NFC</td>\n",
       "      <td>NFC East</td>\n",
       "    </tr>\n",
       "    <tr>\n",
       "      <th>3</th>\n",
       "      <td>Atlanta Falcons</td>\n",
       "      <td>Falcons</td>\n",
       "      <td>ATL</td>\n",
       "      <td>ATL</td>\n",
       "      <td>NFC</td>\n",
       "      <td>NFC South</td>\n",
       "      <td>NFC</td>\n",
       "      <td>NFC West</td>\n",
       "    </tr>\n",
       "    <tr>\n",
       "      <th>4</th>\n",
       "      <td>Baltimore Ravens</td>\n",
       "      <td>Ravens</td>\n",
       "      <td>BAL</td>\n",
       "      <td>RAV</td>\n",
       "      <td>AFC</td>\n",
       "      <td>AFC North</td>\n",
       "      <td>AFC</td>\n",
       "      <td>AFC Central</td>\n",
       "    </tr>\n",
       "  </tbody>\n",
       "</table>\n",
       "</div>"
      ],
      "text/plain": [
       "             team_name team_name_short team_id team_id_pfr team_conference  \\\n",
       "0    Arizona Cardinals       Cardinals     ARI         CRD             NFC   \n",
       "1    Phoenix Cardinals       Cardinals     ARI         CRD             NFC   \n",
       "2  St. Louis Cardinals       Cardinals     ARI         ARI             NFC   \n",
       "3      Atlanta Falcons         Falcons     ATL         ATL             NFC   \n",
       "4     Baltimore Ravens          Ravens     BAL         RAV             AFC   \n",
       "\n",
       "  team_division team_conference_pre2002 team_division_pre2002  \n",
       "0      NFC West                     NFC              NFC West  \n",
       "1           NaN                     NFC              NFC East  \n",
       "2           NaN                     NFC              NFC East  \n",
       "3     NFC South                     NFC              NFC West  \n",
       "4     AFC North                     AFC           AFC Central  "
      ]
     },
     "execution_count": 5,
     "metadata": {},
     "output_type": "execute_result"
    }
   ],
   "source": [
    "nfl_teams.head()"
   ]
  },
  {
   "cell_type": "markdown",
   "metadata": {
    "ExecuteTime": {
     "end_time": "2018-11-15T04:15:09.383400Z",
     "start_time": "2018-11-15T04:15:09.374916Z"
    }
   },
   "source": [
    "### Find Total Number of teams"
   ]
  },
  {
   "cell_type": "code",
   "execution_count": 130,
   "metadata": {
    "ExecuteTime": {
     "end_time": "2018-11-15T05:02:38.611550Z",
     "start_time": "2018-11-15T05:02:38.595542Z"
    }
   },
   "outputs": [
    {
     "name": "stdout",
     "output_type": "stream",
     "text": [
      "# of Unique Teams (all eras) 33\n"
     ]
    },
    {
     "data": {
      "text/plain": [
       "array(['Cardinals', 'Falcons', 'Ravens', 'Bills', 'Panthers', 'Bears',\n",
       "       'Bengals', 'Browns', 'Cowboys', 'Broncos', 'Lions', 'Packers',\n",
       "       'Texans', 'Colts', 'Jaguars', 'Chiefs', 'Chargers', 'Rams',\n",
       "       'Dolphins', 'Vikings', 'Patriots', 'Saints', 'Giants', 'Jets',\n",
       "       'Raiders', 'Eagles', 'Steelers', 'Seahawks', '49ers', 'Buccaneers',\n",
       "       'Oilers', 'Titans', 'Redskins'], dtype=object)"
      ]
     },
     "execution_count": 130,
     "metadata": {},
     "output_type": "execute_result"
    }
   ],
   "source": [
    "unique_teams = nfl_teams['team_name_short'].unique()\n",
    "print('# of Unique Teams (all eras)',len(unique_teams))\n",
    "unique_teams"
   ]
  },
  {
   "cell_type": "markdown",
   "metadata": {},
   "source": [
    "### Find teams who have moved cities\n",
    "Seven teams have moved (listed below) with the Cardinals moving the most (3 times)"
   ]
  },
  {
   "cell_type": "code",
   "execution_count": 32,
   "metadata": {
    "ExecuteTime": {
     "end_time": "2018-11-15T04:14:46.220312Z",
     "start_time": "2018-11-15T04:14:46.193355Z"
    },
    "code_folding": []
   },
   "outputs": [
    {
     "name": "stdout",
     "output_type": "stream",
     "text": [
      "# of Moved Teams 7\n"
     ]
    },
    {
     "data": {
      "text/plain": [
       "Cardinals    3\n",
       "Oilers       2\n",
       "Raiders      2\n",
       "Colts        2\n",
       "Rams         2\n",
       "Chargers     2\n",
       "Patriots     2\n",
       "Name: team_name_short, dtype: int64"
      ]
     },
     "execution_count": 32,
     "metadata": {},
     "output_type": "execute_result"
    }
   ],
   "source": [
    "team_counts = nfl_teams['team_name_short'].value_counts()\n",
    "moved_teams = team_counts[team_counts>1]\n",
    "\n",
    "print('# of Moved Teams', len(moved_teams))\n",
    "moved_teams"
   ]
  },
  {
   "cell_type": "code",
   "execution_count": 63,
   "metadata": {
    "ExecuteTime": {
     "end_time": "2018-11-15T04:28:39.365279Z",
     "start_time": "2018-11-15T04:28:39.305774Z"
    }
   },
   "outputs": [
    {
     "data": {
      "text/html": [
       "<div>\n",
       "<style scoped>\n",
       "    .dataframe tbody tr th:only-of-type {\n",
       "        vertical-align: middle;\n",
       "    }\n",
       "\n",
       "    .dataframe tbody tr th {\n",
       "        vertical-align: top;\n",
       "    }\n",
       "\n",
       "    .dataframe thead th {\n",
       "        text-align: right;\n",
       "    }\n",
       "</style>\n",
       "<table border=\"1\" class=\"dataframe\">\n",
       "  <thead>\n",
       "    <tr style=\"text-align: right;\">\n",
       "      <th></th>\n",
       "      <th>Team</th>\n",
       "      <th>Cities</th>\n",
       "    </tr>\n",
       "  </thead>\n",
       "  <tbody>\n",
       "    <tr>\n",
       "      <th>0</th>\n",
       "      <td>Cardinals</td>\n",
       "      <td>[Arizona , Phoenix , St. Louis ]</td>\n",
       "    </tr>\n",
       "    <tr>\n",
       "      <th>1</th>\n",
       "      <td>Oilers</td>\n",
       "      <td>[Houston , Tennessee ]</td>\n",
       "    </tr>\n",
       "    <tr>\n",
       "      <th>2</th>\n",
       "      <td>Raiders</td>\n",
       "      <td>[Los Angeles , Oakland ]</td>\n",
       "    </tr>\n",
       "    <tr>\n",
       "      <th>3</th>\n",
       "      <td>Colts</td>\n",
       "      <td>[Baltimore , Indianapolis ]</td>\n",
       "    </tr>\n",
       "    <tr>\n",
       "      <th>4</th>\n",
       "      <td>Rams</td>\n",
       "      <td>[Los Angeles , St. Louis ]</td>\n",
       "    </tr>\n",
       "    <tr>\n",
       "      <th>5</th>\n",
       "      <td>Chargers</td>\n",
       "      <td>[Los Angeles , San Diego ]</td>\n",
       "    </tr>\n",
       "    <tr>\n",
       "      <th>6</th>\n",
       "      <td>Patriots</td>\n",
       "      <td>[New England , Boston ]</td>\n",
       "    </tr>\n",
       "  </tbody>\n",
       "</table>\n",
       "</div>"
      ],
      "text/plain": [
       "        Team                            Cities\n",
       "0  Cardinals  [Arizona , Phoenix , St. Louis ]\n",
       "1     Oilers            [Houston , Tennessee ]\n",
       "2    Raiders          [Los Angeles , Oakland ]\n",
       "3      Colts       [Baltimore , Indianapolis ]\n",
       "4       Rams        [Los Angeles , St. Louis ]\n",
       "5   Chargers        [Los Angeles , San Diego ]\n",
       "6   Patriots           [New England , Boston ]"
      ]
     },
     "execution_count": 63,
     "metadata": {},
     "output_type": "execute_result"
    }
   ],
   "source": [
    "all_cities = []\n",
    "\n",
    "for i in moved_teams.index: \n",
    "    full_names = nfl_teams[nfl_teams['team_name_short']==i]['team_name'].tolist()\n",
    "    cities = [x.replace(i,'') for x in full_names]\n",
    "    all_cities.append(cities)\n",
    "\n",
    "pd.DataFrame({'Team':moved_teams.index, \n",
    "              'Cities':all_cities})"
   ]
  },
  {
   "cell_type": "markdown",
   "metadata": {},
   "source": [
    "###  Which teams are no longer around?"
   ]
  },
  {
   "cell_type": "code",
   "execution_count": 136,
   "metadata": {
    "ExecuteTime": {
     "end_time": "2018-11-15T05:06:11.328430Z",
     "start_time": "2018-11-15T05:06:11.306936Z"
    },
    "code_folding": []
   },
   "outputs": [
    {
     "data": {
      "text/plain": [
       "1       Phoenix Cardinals\n",
       "2     St. Louis Cardinals\n",
       "15        Baltimore Colts\n",
       "22         St. Louis Rams\n",
       "26        Boston Patriots\n",
       "30    Los Angeles Raiders\n",
       "37         Houston Oilers\n",
       "38       Tennessee Oilers\n",
       "Name: team_name, dtype: object"
      ]
     },
     "execution_count": 136,
     "metadata": {},
     "output_type": "execute_result"
    }
   ],
   "source": [
    "extinct_teams = nfl_teams.team_name[nfl_teams.team_division.isna()]\n",
    "extinct_teams"
   ]
  },
  {
   "cell_type": "markdown",
   "metadata": {
    "ExecuteTime": {
     "end_time": "2018-11-15T04:55:37.167469Z",
     "start_time": "2018-11-15T04:55:37.158970Z"
    }
   },
   "source": [
    "### What franchises did they become?"
   ]
  },
  {
   "cell_type": "code",
   "execution_count": 128,
   "metadata": {
    "ExecuteTime": {
     "end_time": "2018-11-15T05:01:45.886526Z",
     "start_time": "2018-11-15T05:01:45.855592Z"
    }
   },
   "outputs": [
    {
     "data": {
      "text/plain": [
       "0        Arizona Cardinals\n",
       "16      Indianapolis Colts\n",
       "21        Los Angeles Rams\n",
       "25    New England Patriots\n",
       "31         Oakland Raiders\n",
       "Name: team_name, dtype: object"
      ]
     },
     "execution_count": 128,
     "metadata": {},
     "output_type": "execute_result"
    }
   ],
   "source": [
    "current_team_names = nfl_teams.team_name_short[nfl_teams.team_division.isna()].unique()\n",
    "\n",
    "nfl_teams.team_name[(nfl_teams.team_name_short.isin(current_team_names)) & (nfl_teams.team_division.notna())]"
   ]
  },
  {
   "cell_type": "markdown",
   "metadata": {},
   "source": [
    "### Which franchises didn't exist pre-2002 and wasn't a team that moved cities?"
   ]
  },
  {
   "cell_type": "code",
   "execution_count": 160,
   "metadata": {
    "ExecuteTime": {
     "end_time": "2018-11-15T05:17:06.211682Z",
     "start_time": "2018-11-15T05:17:06.198682Z"
    }
   },
   "outputs": [
    {
     "name": "stdout",
     "output_type": "stream",
     "text": [
      "Houston Texans\n"
     ]
    }
   ],
   "source": [
    "new_teams = nfl_teams.team_name[nfl_teams.team_division_pre2002.isna()]\n",
    "\n",
    "for team in new_teams: \n",
    "    if team not in extinct_teams.tolist(): \n",
    "        print(team)\n",
    "        "
   ]
  },
  {
   "cell_type": "markdown",
   "metadata": {},
   "source": [
    "From Wikipedia: The club first played in 2002 as an expansion team, making them the youngest franchise currently competing in the NFL. The Texans replaced the city's previous NFL franchise, the Houston Oilers, which moved to Nashville, Tennessee and are now known as the Tennessee Titans."
   ]
  },
  {
   "cell_type": "markdown",
   "metadata": {
    "ExecuteTime": {
     "end_time": "2018-11-15T04:16:47.097281Z",
     "start_time": "2018-11-15T04:16:47.089774Z"
    }
   },
   "source": [
    "### Teams per Division\n",
    "After 2002, the NFL expanded the number of divisions from 6 to 8."
   ]
  },
  {
   "cell_type": "code",
   "execution_count": 83,
   "metadata": {
    "ExecuteTime": {
     "end_time": "2018-11-15T04:36:14.481719Z",
     "start_time": "2018-11-15T04:36:14.461222Z"
    }
   },
   "outputs": [
    {
     "data": {
      "text/plain": [
       "AFC West     5\n",
       "NFC North    4\n",
       "AFC North    4\n",
       "AFC East     4\n",
       "AFC South    4\n",
       "NFC East     4\n",
       "NFC South    4\n",
       "NFC West     4\n",
       "Name: team_division, dtype: int64"
      ]
     },
     "execution_count": 83,
     "metadata": {},
     "output_type": "execute_result"
    }
   ],
   "source": [
    "curr_div = nfl_teams.team_division.value_counts()\n",
    "curr_div"
   ]
  },
  {
   "cell_type": "code",
   "execution_count": 82,
   "metadata": {
    "ExecuteTime": {
     "end_time": "2018-11-15T04:35:50.037790Z",
     "start_time": "2018-11-15T04:35:50.013932Z"
    }
   },
   "outputs": [
    {
     "data": {
      "text/plain": [
       "AFC Central    8\n",
       "AFC West       7\n",
       "NFC West       7\n",
       "NFC East       6\n",
       "AFC East       6\n",
       "NFC Central    5\n",
       "Name: team_division_pre2002, dtype: int64"
      ]
     },
     "execution_count": 82,
     "metadata": {},
     "output_type": "execute_result"
    }
   ],
   "source": [
    "pre_2002_div = nfl_teams.team_division_pre2002.value_counts()\n",
    "pre_2002_div"
   ]
  },
  {
   "cell_type": "markdown",
   "metadata": {
    "ExecuteTime": {
     "end_time": "2018-11-15T04:48:13.372271Z",
     "start_time": "2018-11-15T04:48:13.364828Z"
    }
   },
   "source": [
    "#### Which teams changed divisions that existed in both eras (pre-2002 and now)? "
   ]
  },
  {
   "cell_type": "code",
   "execution_count": 106,
   "metadata": {
    "ExecuteTime": {
     "end_time": "2018-11-15T04:49:20.878659Z",
     "start_time": "2018-11-15T04:49:20.812721Z"
    }
   },
   "outputs": [
    {
     "data": {
      "text/html": [
       "<div>\n",
       "<style scoped>\n",
       "    .dataframe tbody tr th:only-of-type {\n",
       "        vertical-align: middle;\n",
       "    }\n",
       "\n",
       "    .dataframe tbody tr th {\n",
       "        vertical-align: top;\n",
       "    }\n",
       "\n",
       "    .dataframe thead th {\n",
       "        text-align: right;\n",
       "    }\n",
       "</style>\n",
       "<table border=\"1\" class=\"dataframe\">\n",
       "  <thead>\n",
       "    <tr style=\"text-align: right;\">\n",
       "      <th></th>\n",
       "      <th>team_name</th>\n",
       "      <th>team_name_short</th>\n",
       "      <th>team_id</th>\n",
       "      <th>team_id_pfr</th>\n",
       "      <th>team_conference</th>\n",
       "      <th>team_division</th>\n",
       "      <th>team_conference_pre2002</th>\n",
       "      <th>team_division_pre2002</th>\n",
       "    </tr>\n",
       "  </thead>\n",
       "  <tbody>\n",
       "    <tr>\n",
       "      <th>3</th>\n",
       "      <td>Atlanta Falcons</td>\n",
       "      <td>Falcons</td>\n",
       "      <td>ATL</td>\n",
       "      <td>ATL</td>\n",
       "      <td>NFC</td>\n",
       "      <td>NFC South</td>\n",
       "      <td>NFC</td>\n",
       "      <td>NFC West</td>\n",
       "    </tr>\n",
       "    <tr>\n",
       "      <th>4</th>\n",
       "      <td>Baltimore Ravens</td>\n",
       "      <td>Ravens</td>\n",
       "      <td>BAL</td>\n",
       "      <td>RAV</td>\n",
       "      <td>AFC</td>\n",
       "      <td>AFC North</td>\n",
       "      <td>AFC</td>\n",
       "      <td>AFC Central</td>\n",
       "    </tr>\n",
       "    <tr>\n",
       "      <th>6</th>\n",
       "      <td>Carolina Panthers</td>\n",
       "      <td>Panthers</td>\n",
       "      <td>CAR</td>\n",
       "      <td>CAR</td>\n",
       "      <td>NFC</td>\n",
       "      <td>NFC South</td>\n",
       "      <td>NFC</td>\n",
       "      <td>NFC West</td>\n",
       "    </tr>\n",
       "    <tr>\n",
       "      <th>7</th>\n",
       "      <td>Chicago Bears</td>\n",
       "      <td>Bears</td>\n",
       "      <td>CHI</td>\n",
       "      <td>CHI</td>\n",
       "      <td>NFC</td>\n",
       "      <td>NFC North</td>\n",
       "      <td>NFC</td>\n",
       "      <td>NFC Central</td>\n",
       "    </tr>\n",
       "    <tr>\n",
       "      <th>8</th>\n",
       "      <td>Cincinnati Bengals</td>\n",
       "      <td>Bengals</td>\n",
       "      <td>CIN</td>\n",
       "      <td>CIN</td>\n",
       "      <td>AFC</td>\n",
       "      <td>AFC North</td>\n",
       "      <td>AFC</td>\n",
       "      <td>AFC Central</td>\n",
       "    </tr>\n",
       "    <tr>\n",
       "      <th>9</th>\n",
       "      <td>Cleveland Browns</td>\n",
       "      <td>Browns</td>\n",
       "      <td>CLE</td>\n",
       "      <td>CLE</td>\n",
       "      <td>AFC</td>\n",
       "      <td>AFC North</td>\n",
       "      <td>AFC</td>\n",
       "      <td>AFC Central</td>\n",
       "    </tr>\n",
       "    <tr>\n",
       "      <th>12</th>\n",
       "      <td>Detroit Lions</td>\n",
       "      <td>Lions</td>\n",
       "      <td>DET</td>\n",
       "      <td>DET</td>\n",
       "      <td>NFC</td>\n",
       "      <td>NFC North</td>\n",
       "      <td>NFC</td>\n",
       "      <td>NFC Central</td>\n",
       "    </tr>\n",
       "    <tr>\n",
       "      <th>13</th>\n",
       "      <td>Green Bay Packers</td>\n",
       "      <td>Packers</td>\n",
       "      <td>GB</td>\n",
       "      <td>GNB</td>\n",
       "      <td>NFC</td>\n",
       "      <td>NFC North</td>\n",
       "      <td>NFC</td>\n",
       "      <td>NFC Central</td>\n",
       "    </tr>\n",
       "    <tr>\n",
       "      <th>16</th>\n",
       "      <td>Indianapolis Colts</td>\n",
       "      <td>Colts</td>\n",
       "      <td>IND</td>\n",
       "      <td>CLT</td>\n",
       "      <td>AFC</td>\n",
       "      <td>AFC South</td>\n",
       "      <td>AFC</td>\n",
       "      <td>AFC East</td>\n",
       "    </tr>\n",
       "    <tr>\n",
       "      <th>17</th>\n",
       "      <td>Jacksonville Jaguars</td>\n",
       "      <td>Jaguars</td>\n",
       "      <td>JAX</td>\n",
       "      <td>JAX</td>\n",
       "      <td>AFC</td>\n",
       "      <td>AFC South</td>\n",
       "      <td>AFC</td>\n",
       "      <td>AFC Central</td>\n",
       "    </tr>\n",
       "    <tr>\n",
       "      <th>24</th>\n",
       "      <td>Minnesota Vikings</td>\n",
       "      <td>Vikings</td>\n",
       "      <td>MIN</td>\n",
       "      <td>MIN</td>\n",
       "      <td>NFC</td>\n",
       "      <td>NFC North</td>\n",
       "      <td>NFC</td>\n",
       "      <td>NFC Central</td>\n",
       "    </tr>\n",
       "    <tr>\n",
       "      <th>27</th>\n",
       "      <td>New Orleans Saints</td>\n",
       "      <td>Saints</td>\n",
       "      <td>NO</td>\n",
       "      <td>NOR</td>\n",
       "      <td>NFC</td>\n",
       "      <td>NFC South</td>\n",
       "      <td>NFC</td>\n",
       "      <td>NFC West</td>\n",
       "    </tr>\n",
       "    <tr>\n",
       "      <th>33</th>\n",
       "      <td>Pittsburgh Steelers</td>\n",
       "      <td>Steelers</td>\n",
       "      <td>PIT</td>\n",
       "      <td>PIT</td>\n",
       "      <td>AFC</td>\n",
       "      <td>AFC North</td>\n",
       "      <td>AFC</td>\n",
       "      <td>AFC Central</td>\n",
       "    </tr>\n",
       "    <tr>\n",
       "      <th>34</th>\n",
       "      <td>Seattle Seahawks</td>\n",
       "      <td>Seahawks</td>\n",
       "      <td>SEA</td>\n",
       "      <td>SEA</td>\n",
       "      <td>NFC</td>\n",
       "      <td>NFC West</td>\n",
       "      <td>AFC</td>\n",
       "      <td>AFC West</td>\n",
       "    </tr>\n",
       "    <tr>\n",
       "      <th>36</th>\n",
       "      <td>Tampa Bay Buccaneers</td>\n",
       "      <td>Buccaneers</td>\n",
       "      <td>TB</td>\n",
       "      <td>TAM</td>\n",
       "      <td>NFC</td>\n",
       "      <td>NFC South</td>\n",
       "      <td>NFC</td>\n",
       "      <td>NFC Central</td>\n",
       "    </tr>\n",
       "    <tr>\n",
       "      <th>39</th>\n",
       "      <td>Tennessee Titans</td>\n",
       "      <td>Titans</td>\n",
       "      <td>TEN</td>\n",
       "      <td>OTI</td>\n",
       "      <td>AFC</td>\n",
       "      <td>AFC South</td>\n",
       "      <td>AFC</td>\n",
       "      <td>AFC Central</td>\n",
       "    </tr>\n",
       "  </tbody>\n",
       "</table>\n",
       "</div>"
      ],
      "text/plain": [
       "               team_name team_name_short team_id team_id_pfr team_conference  \\\n",
       "3        Atlanta Falcons         Falcons     ATL         ATL             NFC   \n",
       "4       Baltimore Ravens          Ravens     BAL         RAV             AFC   \n",
       "6      Carolina Panthers        Panthers     CAR         CAR             NFC   \n",
       "7          Chicago Bears           Bears     CHI         CHI             NFC   \n",
       "8     Cincinnati Bengals         Bengals     CIN         CIN             AFC   \n",
       "9       Cleveland Browns          Browns     CLE         CLE             AFC   \n",
       "12         Detroit Lions           Lions     DET         DET             NFC   \n",
       "13     Green Bay Packers         Packers      GB         GNB             NFC   \n",
       "16    Indianapolis Colts           Colts     IND         CLT             AFC   \n",
       "17  Jacksonville Jaguars         Jaguars     JAX         JAX             AFC   \n",
       "24     Minnesota Vikings         Vikings     MIN         MIN             NFC   \n",
       "27    New Orleans Saints          Saints      NO         NOR             NFC   \n",
       "33   Pittsburgh Steelers        Steelers     PIT         PIT             AFC   \n",
       "34      Seattle Seahawks        Seahawks     SEA         SEA             NFC   \n",
       "36  Tampa Bay Buccaneers      Buccaneers      TB         TAM             NFC   \n",
       "39      Tennessee Titans          Titans     TEN         OTI             AFC   \n",
       "\n",
       "   team_division team_conference_pre2002 team_division_pre2002  \n",
       "3      NFC South                     NFC              NFC West  \n",
       "4      AFC North                     AFC           AFC Central  \n",
       "6      NFC South                     NFC              NFC West  \n",
       "7      NFC North                     NFC           NFC Central  \n",
       "8      AFC North                     AFC           AFC Central  \n",
       "9      AFC North                     AFC           AFC Central  \n",
       "12     NFC North                     NFC           NFC Central  \n",
       "13     NFC North                     NFC           NFC Central  \n",
       "16     AFC South                     AFC              AFC East  \n",
       "17     AFC South                     AFC           AFC Central  \n",
       "24     NFC North                     NFC           NFC Central  \n",
       "27     NFC South                     NFC              NFC West  \n",
       "33     AFC North                     AFC           AFC Central  \n",
       "34      NFC West                     AFC              AFC West  \n",
       "36     NFC South                     NFC           NFC Central  \n",
       "39     AFC South                     AFC           AFC Central  "
      ]
     },
     "execution_count": 106,
     "metadata": {},
     "output_type": "execute_result"
    }
   ],
   "source": [
    "nfl_teams[nfl_teams.team_division != nfl_teams.team_division_pre2002].dropna()"
   ]
  },
  {
   "cell_type": "markdown",
   "metadata": {},
   "source": [
    "### Teams per Conference"
   ]
  },
  {
   "cell_type": "code",
   "execution_count": 103,
   "metadata": {
    "ExecuteTime": {
     "end_time": "2018-11-15T04:48:48.317069Z",
     "start_time": "2018-11-15T04:48:48.295579Z"
    }
   },
   "outputs": [
    {
     "data": {
      "text/plain": [
       "AFC    21\n",
       "NFC    20\n",
       "Name: team_conference, dtype: int64"
      ]
     },
     "execution_count": 103,
     "metadata": {},
     "output_type": "execute_result"
    }
   ],
   "source": [
    "nfl_teams.team_conference.value_counts()"
   ]
  },
  {
   "cell_type": "code",
   "execution_count": null,
   "metadata": {},
   "outputs": [],
   "source": []
  },
  {
   "cell_type": "code",
   "execution_count": 104,
   "metadata": {
    "ExecuteTime": {
     "end_time": "2018-11-15T04:48:50.153710Z",
     "start_time": "2018-11-15T04:48:50.129703Z"
    }
   },
   "outputs": [
    {
     "data": {
      "text/plain": [
       "AFC    22\n",
       "NFC    19\n",
       "Name: team_conference_pre2002, dtype: int64"
      ]
     },
     "execution_count": 104,
     "metadata": {},
     "output_type": "execute_result"
    }
   ],
   "source": [
    "nfl_teams.team_conference_pre2002.value_counts()"
   ]
  },
  {
   "cell_type": "markdown",
   "metadata": {
    "ExecuteTime": {
     "end_time": "2018-11-15T04:49:31.698479Z",
     "start_time": "2018-11-15T04:49:31.690976Z"
    }
   },
   "source": [
    "#### Which team changed conferences that existed in both eras (pre-2002 and now)? "
   ]
  },
  {
   "cell_type": "code",
   "execution_count": 108,
   "metadata": {
    "ExecuteTime": {
     "end_time": "2018-11-15T04:49:54.344126Z",
     "start_time": "2018-11-15T04:49:54.298957Z"
    }
   },
   "outputs": [
    {
     "data": {
      "text/html": [
       "<div>\n",
       "<style scoped>\n",
       "    .dataframe tbody tr th:only-of-type {\n",
       "        vertical-align: middle;\n",
       "    }\n",
       "\n",
       "    .dataframe tbody tr th {\n",
       "        vertical-align: top;\n",
       "    }\n",
       "\n",
       "    .dataframe thead th {\n",
       "        text-align: right;\n",
       "    }\n",
       "</style>\n",
       "<table border=\"1\" class=\"dataframe\">\n",
       "  <thead>\n",
       "    <tr style=\"text-align: right;\">\n",
       "      <th></th>\n",
       "      <th>team_name</th>\n",
       "      <th>team_name_short</th>\n",
       "      <th>team_id</th>\n",
       "      <th>team_id_pfr</th>\n",
       "      <th>team_conference</th>\n",
       "      <th>team_division</th>\n",
       "      <th>team_conference_pre2002</th>\n",
       "      <th>team_division_pre2002</th>\n",
       "    </tr>\n",
       "  </thead>\n",
       "  <tbody>\n",
       "    <tr>\n",
       "      <th>34</th>\n",
       "      <td>Seattle Seahawks</td>\n",
       "      <td>Seahawks</td>\n",
       "      <td>SEA</td>\n",
       "      <td>SEA</td>\n",
       "      <td>NFC</td>\n",
       "      <td>NFC West</td>\n",
       "      <td>AFC</td>\n",
       "      <td>AFC West</td>\n",
       "    </tr>\n",
       "  </tbody>\n",
       "</table>\n",
       "</div>"
      ],
      "text/plain": [
       "           team_name team_name_short team_id team_id_pfr team_conference  \\\n",
       "34  Seattle Seahawks        Seahawks     SEA         SEA             NFC   \n",
       "\n",
       "   team_division team_conference_pre2002 team_division_pre2002  \n",
       "34      NFC West                     AFC              AFC West  "
      ]
     },
     "execution_count": 108,
     "metadata": {},
     "output_type": "execute_result"
    }
   ],
   "source": [
    "nfl_teams[nfl_teams.team_conference != nfl_teams.team_conference_pre2002].dropna()"
   ]
  }
 ],
 "metadata": {
  "kernelspec": {
   "display_name": "Python 3",
   "language": "python",
   "name": "python3"
  },
  "language_info": {
   "codemirror_mode": {
    "name": "ipython",
    "version": 3
   },
   "file_extension": ".py",
   "mimetype": "text/x-python",
   "name": "python",
   "nbconvert_exporter": "python",
   "pygments_lexer": "ipython3",
   "version": "3.7.0"
  },
  "latex_envs": {
   "LaTeX_envs_menu_present": true,
   "autoclose": false,
   "autocomplete": true,
   "bibliofile": "biblio.bib",
   "cite_by": "apalike",
   "current_citInitial": 1,
   "eqLabelWithNumbers": true,
   "eqNumInitial": 1,
   "hotkeys": {
    "equation": "Ctrl-E",
    "itemize": "Ctrl-I"
   },
   "labels_anchors": false,
   "latex_user_defs": false,
   "report_style_numbering": false,
   "user_envs_cfg": false
  },
  "toc": {
   "base_numbering": 1,
   "nav_menu": {},
   "number_sections": true,
   "sideBar": true,
   "skip_h1_title": false,
   "title_cell": "Table of Contents",
   "title_sidebar": "Contents",
   "toc_cell": false,
   "toc_position": {},
   "toc_section_display": true,
   "toc_window_display": false
  }
 },
 "nbformat": 4,
 "nbformat_minor": 2
}
